{
 "cells": [
  {
   "cell_type": "markdown",
   "metadata": {},
   "source": [
    "### Introduction"
   ]
  },
  {
   "cell_type": "markdown",
   "metadata": {},
   "source": [
    "In the previous section we saw the procedure for gradient descent.  We said that gradient descent allows us to adjust m and b.  \n",
    "* Adjust $b$ and $m$, as these are the only things that can vary in a single-variable regression line.\n",
    "* With each adjustment calculate the error \n",
    "* Move the m and b values in a direction that moves the line closer to the actual points."
   ]
  },
  {
   "cell_type": "markdown",
   "metadata": {},
   "source": [
    "We identified the heart of our procedure for gradient descent as the following. "
   ]
  },
  {
   "cell_type": "markdown",
   "metadata": {},
   "source": [
    "```python\n",
    "learning_rate = .0001\n",
    "n = len(updated_shows)\n",
    "b_gradient = 0\n",
    "m_gradient = 0 \n",
    "for i in range(len(points)):\n",
    "    b_gradient += -(1/n)*(error_at_point_x)\n",
    "    m_gradient += -(1/n)*(error_at_point_x*x)\n",
    "\n",
    "new_b = b_current - (learningRate * b_gradient)\n",
    "new_m = m_current - (learningRate * m_gradient)\n",
    "```"
   ]
  },
  {
   "cell_type": "markdown",
   "metadata": {},
   "source": [
    "In this section, we will turn this procedure into code."
   ]
  },
  {
   "cell_type": "markdown",
   "metadata": {},
   "source": [
    "### Seeing our gradient descent formulas in action"
   ]
  },
  {
   "cell_type": "markdown",
   "metadata": {},
   "source": [
    "Consider that we have the following shows:"
   ]
  },
  {
   "cell_type": "code",
   "execution_count": 7,
   "metadata": {
    "collapsed": true
   },
   "outputs": [],
   "source": [
    "first_show = {'budget': 10, 'revenue': 27}\n",
    "second_show = {'budget': 20, 'revenue': 50}\n",
    "third_show = {'budget': 40, 'revenue': 70}\n",
    "\n",
    "shows = [first_show, second_show, third_show]"
   ]
  },
  {
   "cell_type": "markdown",
   "metadata": {},
   "source": [
    "Let's start by writing a function that calculates the error at a given budget, given different values of m and b. "
   ]
  },
  {
   "cell_type": "code",
   "execution_count": 8,
   "metadata": {
    "collapsed": true
   },
   "outputs": [],
   "source": [
    "def error_at_point(budget, m, b, shows): \n",
    "    actual = list(filter(lambda show: show['budget'] == budget,shows))[0]['revenue']\n",
    "    expected = m*budget + b\n",
    "    return actual - expected"
   ]
  },
  {
   "cell_type": "code",
   "execution_count": 9,
   "metadata": {},
   "outputs": [
    {
     "data": {
      "text/plain": [
       "-4.0"
      ]
     },
     "execution_count": 9,
     "metadata": {},
     "output_type": "execute_result"
    }
   ],
   "source": [
    "m = 2.2\n",
    "b = 10\n",
    "budget = 20\n",
    "error_at_point(budget, m, b, shows) # -4.0"
   ]
  },
  {
   "cell_type": "markdown",
   "metadata": {},
   "source": [
    "Now that we have the error at a given point, we want to see how much we should adjust the value of $b$.  We adjust $b$ by running all of our points through a specific formula.  Write a function that iterates through each of our shows and returns the amount to modify $b$. "
   ]
  },
  {
   "cell_type": "code",
   "execution_count": 17,
   "metadata": {},
   "outputs": [],
   "source": [
    "def b_gradient(m, b, shows):\n",
    "    b_gradient = 0\n",
    "    n = len(shows)\n",
    "    gradient_changes = list(map(lambda show: -1/n * error_at_point(show['budget'], m, b, shows), shows))\n",
    "    return sum(gradient_changes)"
   ]
  },
  {
   "cell_type": "code",
   "execution_count": 18,
   "metadata": {},
   "outputs": [
    {
     "data": {
      "text/plain": [
       "12.333333333333332"
      ]
     },
     "execution_count": 18,
     "metadata": {},
     "output_type": "execute_result"
    }
   ],
   "source": [
    "b_gradient(m, b, shows) # 12.333333333333332"
   ]
  },
  {
   "cell_type": "markdown",
   "metadata": {},
   "source": [
    "Now write a function that calculates the m_gradient."
   ]
  },
  {
   "cell_type": "code",
   "execution_count": 19,
   "metadata": {
    "collapsed": true
   },
   "outputs": [],
   "source": [
    "def m_gradient(m, b, shows):\n",
    "    b_gradient = 0\n",
    "    n = len(shows)\n",
    "    gradient_changes = list(map(lambda show: -1/n * show['budget']*error_at_point(show['budget'], m, b, shows), shows))\n",
    "    return sum(gradient_changes)"
   ]
  },
  {
   "cell_type": "code",
   "execution_count": 21,
   "metadata": {},
   "outputs": [
    {
     "data": {
      "text/plain": [
       "416.66666666666663"
      ]
     },
     "execution_count": 21,
     "metadata": {},
     "output_type": "execute_result"
    }
   ],
   "source": [
    "m_gradient(m, b, shows) # 416.6666"
   ]
  },
  {
   "cell_type": "markdown",
   "metadata": {},
   "source": [
    "Ok, it's time for us to finally take a step in the correct direction (we hope).  Write a function called `gradient_step` that updates our previous values of $m$ and $b$ with help of our `m_gradient` function and `b_gradient` function.   "
   ]
  },
  {
   "cell_type": "code",
   "execution_count": 27,
   "metadata": {
    "collapsed": true
   },
   "outputs": [],
   "source": [
    "def gradient_step(m, b, shows, learning_rate):\n",
    "    new_b = b - (learning_rate * b_gradient(m, b, shows))\n",
    "    new_m = m - (learning_rate * m_gradient(m, b, shows))\n",
    "    return {'b': new_b, 'm': new_m}"
   ]
  },
  {
   "cell_type": "code",
   "execution_count": 28,
   "metadata": {},
   "outputs": [
    {
     "data": {
      "text/plain": [
       "{'b': 9.998766666666667, 'm': 2.1583333333333337}"
      ]
     },
     "execution_count": 28,
     "metadata": {},
     "output_type": "execute_result"
    }
   ],
   "source": [
    "learning_rate = .0001\n",
    "gradient_step(m, b, shows, learning_rate) # {'b': 9.998766666666667, 'm': 2.1583333333333337}"
   ]
  },
  {
   "cell_type": "markdown",
   "metadata": {},
   "source": [
    "Now write a function called `gradient_steps` that takes a provided number of steps and also accepts parameters of m, b, the list of shows, and the learning rate. It returns an list of dictionaries, each dictionary should have the updated value of m and b, as well as the associated RSS with those new values, as the key rss."
   ]
  },
  {
   "cell_type": "code",
   "execution_count": 33,
   "metadata": {},
   "outputs": [],
   "source": [
    "def rss(m, b, shows):\n",
    "    squared_errors = list(map(lambda show: error_at_point(show['budget'], m, b, shows)**2, shows))\n",
    "    return sum(squared_errors)\n",
    "\n",
    "def gradient_steps(initial_m, initial_b, shows, learning_rate, step_num):\n",
    "    m = initial_m \n",
    "    b = initial_b\n",
    "    steps = []\n",
    "    for i in range(step_num):\n",
    "        step = gradient_step(m, b, shows, learning_rate)\n",
    "        m = step['m']\n",
    "        b = step['b']\n",
    "        step.update({'rss': rss(m, b, shows)})\n",
    "        steps.append(step)\n",
    "    return steps"
   ]
  },
  {
   "cell_type": "code",
   "execution_count": 40,
   "metadata": {},
   "outputs": [
    {
     "data": {
      "text/plain": [
       "[{'b': 0.4356103167800832, 'm': 1.9237500396834004, 'rss': 231.20511575689545},\n",
       " {'b': 0.43597800565581063,\n",
       "  'm': 1.9237377794997421,\n",
       "  'rss': 231.19699512173926},\n",
       " {'b': 0.43634568636974563, 'm': 1.92372551958823, 'rss': 231.1888748470956}]"
      ]
     },
     "execution_count": 40,
     "metadata": {},
     "output_type": "execute_result"
    }
   ],
   "source": [
    "initial_m = 0\n",
    "initial_b = 0\n",
    "steps = gradient_steps(initial_m, initial_b, shows, learning_rate, 1000)[-3:]\n",
    "\n",
    "last_three_steps = steps[-3:]\n",
    "last_three_steps\n",
    "# [{'b': 0.4356103167800832, 'm': 1.9237500396834004, 'rss': 231.20511575689545},\n",
    "#  {'b': 0.43597800565581063,\n",
    "#   'm': 1.9237377794997421,\n",
    "#   'rss': 231.19699512173926},\n",
    "#  {'b': 0.43634568636974563, 'm': 1.92372551958823, 'rss': 231.1888748470956}]"
   ]
  },
  {
   "cell_type": "code",
   "execution_count": null,
   "metadata": {
    "collapsed": true
   },
   "outputs": [],
   "source": [
    "last_three_steps"
   ]
  },
  {
   "cell_type": "code",
   "execution_count": null,
   "metadata": {
    "collapsed": true
   },
   "outputs": [],
   "source": []
  }
 ],
 "metadata": {
  "kernelspec": {
   "display_name": "Python 3",
   "language": "python",
   "name": "python3"
  },
  "language_info": {
   "codemirror_mode": {
    "name": "ipython",
    "version": 3
   },
   "file_extension": ".py",
   "mimetype": "text/x-python",
   "name": "python",
   "nbconvert_exporter": "python",
   "pygments_lexer": "ipython3",
   "version": "3.6.1"
  }
 },
 "nbformat": 4,
 "nbformat_minor": 2
}
